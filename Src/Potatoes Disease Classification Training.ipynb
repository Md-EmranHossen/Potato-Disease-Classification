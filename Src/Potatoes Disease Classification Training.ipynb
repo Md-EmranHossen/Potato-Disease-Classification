{
 "cells": [
  {
   "cell_type": "code",
   "execution_count": 1,
   "id": "ed170705",
   "metadata": {},
   "outputs": []  ,
   "source": [


    "import tensorflow as tf\n",
    "from tensorflow.keras import models,layers\n",
    "import matplotlib.pyplot as plt"
   ]
  },
  {
   "cell_type": "code",
   "execution_count": 3,
   "id": "f3d1448b",
   "metadata": {},
   "outputs": [],
   "source": [
    "BATCH_SIZE = 32\n",
    "IMAGE_SIZE = 255\n",
    "CHANNEL = 3\n",
    "EPOCHS = 20"
   ]
  },
  {
   "cell_type": "code",
   "execution_count": 4,
   "id": "0a915692",
   "metadata": {},
   "outputs": [
    {
     "name": "stdout",
     "output_type": "stream",
     "text": [
      "Found 2152 files belonging to 3 classes.\n"
     ]
    }
   ],
   "source": [
    "dataset = tf.keras.preprocessing.image_dataset_from_directory(\n",
    "directory='PlantVillage',\n",
    "seed=123,\n",
    "shuffle = True,\n",
    "image_size=(IMAGE_SIZE,IMAGE_SIZE),\n",
    "batch_size = BATCH_SIZE\n",
    ")"
   ]
  },
  {
   "cell_type": "code",
   "execution_count": 5,
   "id": "de6e5b9a",
   "metadata": {},
   "outputs": [
    {
     "data": {
      "text/plain": [
       "['Potato___Early_blight', 'Potato___Late_blight', 'Potato___healthy']"
      ]
     },
     "execution_count": 5,
     "metadata": {},
     "output_type": "execute_result"
    }
   ],
   "source": [
    "class_names = dataset.class_names\n",
    "class_names"
   ]
  },
  {
   "cell_type": "code",
   "execution_count": 6,
   "id": "31b5887e",
   "metadata": {},
   "outputs": [
    {
     "name": "stdout",
     "output_type": "stream",
     "text": [
      "Image Batch Shape :  (32, 255, 255, 3)\n",
      "Single Image :  tf.Tensor(\n",
      "[[[141.98236  115.98237  116.98237 ]\n",
      "  [136.82382  110.823814 111.823814]\n",
      "  [107.35246   81.35246   82.35246 ]\n",
      "  ...\n",
      "  [173.01381  155.01381  151.01381 ]\n",
      "  [181.93741  163.93741  159.93741 ]\n",
      "  [195.95111  177.95111  173.95111 ]]\n",
      "\n",
      " [[137.87445  111.87446  112.87446 ]\n",
      "  [136.8248   110.82481  111.82481 ]\n",
      "  [132.12982  106.129814 107.129814]\n",
      "  ...\n",
      "  [175.0646   157.0646   153.0646  ]\n",
      "  [176.98244  158.98244  154.98244 ]\n",
      "  [184.96088  166.96088  162.96088 ]]\n",
      "\n",
      " [[117.12743   91.12743   92.12743 ]\n",
      "  [112.31633   86.31633   87.31633 ]\n",
      "  [144.35968  118.35967  119.35967 ]\n",
      "  ...\n",
      "  [176.0387   158.0387   154.0387  ]\n",
      "  [176.02917  158.02917  154.02917 ]\n",
      "  [181.049    163.049    159.049   ]]\n",
      "\n",
      " ...\n",
      "\n",
      " [[107.330246  81.330246  80.330246]\n",
      "  [145.66852  119.6685   118.6685  ]\n",
      "  [126.09693  100.09693   99.09693 ]\n",
      "  ...\n",
      "  [162.9805   142.9805   141.9805  ]\n",
      "  [166.96677  146.96677  145.96677 ]\n",
      "  [170.96283  150.96283  149.96283 ]]\n",
      "\n",
      " [[114.97099   88.97099   87.97099 ]\n",
      "  [124.33907   98.33907   97.33907 ]\n",
      "  [159.48856  133.48856  132.48856 ]\n",
      "  ...\n",
      "  [161.00189  141.00189  140.00189 ]\n",
      "  [164.98825  144.98825  143.98825 ]\n",
      "  [169.00394  149.00394  148.00394 ]]\n",
      "\n",
      " [[116.03722   90.03722   89.03722 ]\n",
      "  [135.98285  109.98285  108.98285 ]\n",
      "  [137.11281  111.1128   110.1128  ]\n",
      "  ...\n",
      "  [158.01562  138.01562  137.01562 ]\n",
      "  [160.99017  140.99017  139.99017 ]\n",
      "  [164.0039   144.0039   143.0039  ]]], shape=(255, 255, 3), dtype=float32)\n",
      "Label Image numpy :  <bound method _EagerTensorBase.numpy of <tf.Tensor: shape=(32,), dtype=int32, numpy=\n",
      "array([1, 1, 1, 0, 0, 0, 0, 0, 1, 1, 1, 1, 0, 1, 0, 1, 1, 1, 0, 1, 0, 1,\n",
      "       0, 0, 1, 0, 0, 1, 1, 2, 0, 0])>>\n"
     ]
    }
   ],
   "source": [
    "for image_batch,label_batch in dataset.take(1):\n",
    "    print(\"Image Batch Shape : \", image_batch.shape)\n",
    "    print(\"Single Image : \", image_batch[0])\n",
    "    print(\"Label Image numpy : \", label_batch.numpy)"
   ]
  }
 ],
 "metadata": {
  "kernelspec": {
   "display_name": "Python 3 (ipykernel)",
   "language": "python",
   "name": "python3"
  },
  "language_info": {
   "codemirror_mode": {
    "name": "ipython",
    "version": 3
   },
   "file_extension": ".py",
   "mimetype": "text/x-python",
   "name": "python",
   "nbconvert_exporter": "python",
   "pygments_lexer": "ipython3",
   "version": "3.8.0"
  }
 },
 "nbformat": 4,
 "nbformat_minor": 5
}
